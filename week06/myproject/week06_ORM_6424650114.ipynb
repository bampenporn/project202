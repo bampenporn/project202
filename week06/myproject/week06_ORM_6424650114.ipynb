{
 "cells": [
  {
   "cell_type": "code",
   "execution_count": 1,
   "id": "86ccb7ee",
   "metadata": {},
   "outputs": [],
   "source": [
    "import os\n",
    "import django\n",
    "os.environ.setdefault('DJANGO_SETTINGS_MODULE', 'rest.settings')\n",
    "os.environ[\"DJANGO_ALLOW_ASYNC_UNSAFE\"] = \"true\"\n",
    "django.setup()"
   ]
  },
  {
   "cell_type": "code",
   "execution_count": 2,
   "id": "43a31720",
   "metadata": {},
   "outputs": [
    {
     "data": {
      "text/plain": [
       "<QuerySet [<Car: 1 Mitsubishi L200>, <Car: 2 Mini Cooper>, <Car: 3 TVR Tuscan>, <Car: 4 BMW Z3>, <Car: 5 Toyota Celica>]>"
      ]
     },
     "execution_count": 2,
     "metadata": {},
     "output_type": "execute_result"
    }
   ],
   "source": [
    "Car.objects.all()"
   ]
  },
  {
   "cell_type": "code",
   "execution_count": 3,
   "id": "0797e60b",
   "metadata": {},
   "outputs": [
    {
     "name": "stdout",
     "output_type": "stream",
     "text": [
      "1 Mitsubishi L200\n",
      "2 Mini Cooper\n",
      "3 TVR Tuscan\n",
      "4 BMW Z3\n",
      "5 Toyota Celica\n"
     ]
    }
   ],
   "source": [
    "for i in Car.objects.all():\n",
    "    print(i)"
   ]
  },
  {
   "cell_type": "code",
   "execution_count": 4,
   "id": "38cbf135",
   "metadata": {},
   "outputs": [
    {
     "data": {
      "text/html": [
       "<div>\n",
       "<style scoped>\n",
       "    .dataframe tbody tr th:only-of-type {\n",
       "        vertical-align: middle;\n",
       "    }\n",
       "\n",
       "    .dataframe tbody tr th {\n",
       "        vertical-align: top;\n",
       "    }\n",
       "\n",
       "    .dataframe thead th {\n",
       "        text-align: right;\n",
       "    }\n",
       "</style>\n",
       "<table border=\"1\" class=\"dataframe\">\n",
       "  <thead>\n",
       "    <tr style=\"text-align: right;\">\n",
       "      <th></th>\n",
       "      <th>id</th>\n",
       "      <th>maker</th>\n",
       "      <th>model</th>\n",
       "      <th>price</th>\n",
       "      <th>color</th>\n",
       "      <th>date</th>\n",
       "    </tr>\n",
       "  </thead>\n",
       "  <tbody>\n",
       "    <tr>\n",
       "      <th>0</th>\n",
       "      <td>1</td>\n",
       "      <td>Mitsubishi</td>\n",
       "      <td>L200</td>\n",
       "      <td>9995.00</td>\n",
       "      <td>red</td>\n",
       "      <td>2022-01-21</td>\n",
       "    </tr>\n",
       "    <tr>\n",
       "      <th>1</th>\n",
       "      <td>2</td>\n",
       "      <td>Mini</td>\n",
       "      <td>Cooper</td>\n",
       "      <td>12500.00</td>\n",
       "      <td>red</td>\n",
       "      <td>2022-01-21</td>\n",
       "    </tr>\n",
       "    <tr>\n",
       "      <th>2</th>\n",
       "      <td>3</td>\n",
       "      <td>TVR</td>\n",
       "      <td>Tuscan</td>\n",
       "      <td>18000.00</td>\n",
       "      <td>blue</td>\n",
       "      <td>2022-01-21</td>\n",
       "    </tr>\n",
       "    <tr>\n",
       "      <th>3</th>\n",
       "      <td>4</td>\n",
       "      <td>BMW</td>\n",
       "      <td>Z3</td>\n",
       "      <td>13995.00</td>\n",
       "      <td>silver</td>\n",
       "      <td>2022-01-21</td>\n",
       "    </tr>\n",
       "    <tr>\n",
       "      <th>4</th>\n",
       "      <td>5</td>\n",
       "      <td>Toyota</td>\n",
       "      <td>Celica</td>\n",
       "      <td>4665.00</td>\n",
       "      <td>dark blue</td>\n",
       "      <td>2022-01-21</td>\n",
       "    </tr>\n",
       "  </tbody>\n",
       "</table>\n",
       "</div>"
      ],
      "text/plain": [
       "   id       maker   model     price      color        date\n",
       "0   1  Mitsubishi    L200   9995.00        red  2022-01-21\n",
       "1   2        Mini  Cooper  12500.00        red  2022-01-21\n",
       "2   3         TVR  Tuscan  18000.00       blue  2022-01-21\n",
       "3   4         BMW      Z3  13995.00     silver  2022-01-21\n",
       "4   5      Toyota  Celica   4665.00  dark blue  2022-01-21"
      ]
     },
     "execution_count": 4,
     "metadata": {},
     "output_type": "execute_result"
    }
   ],
   "source": [
    "import pandas as pd\n",
    "df = pd.DataFrame(list(Car.objects.all().values()))\n",
    "df"
   ]
  },
  {
   "cell_type": "code",
   "execution_count": 5,
   "id": "a515e1f8",
   "metadata": {},
   "outputs": [
    {
     "data": {
      "text/html": [
       "<div>\n",
       "<style scoped>\n",
       "    .dataframe tbody tr th:only-of-type {\n",
       "        vertical-align: middle;\n",
       "    }\n",
       "\n",
       "    .dataframe tbody tr th {\n",
       "        vertical-align: top;\n",
       "    }\n",
       "\n",
       "    .dataframe thead th {\n",
       "        text-align: right;\n",
       "    }\n",
       "</style>\n",
       "<table border=\"1\" class=\"dataframe\">\n",
       "  <thead>\n",
       "    <tr style=\"text-align: right;\">\n",
       "      <th></th>\n",
       "      <th>id</th>\n",
       "      <th>name</th>\n",
       "      <th>address</th>\n",
       "      <th>postcode</th>\n",
       "      <th>email</th>\n",
       "      <th>phone</th>\n",
       "    </tr>\n",
       "  </thead>\n",
       "  <tbody>\n",
       "    <tr>\n",
       "      <th>0</th>\n",
       "      <td>1</td>\n",
       "      <td>Bampenporn</td>\n",
       "      <td>pathumthani</td>\n",
       "      <td>12120</td>\n",
       "      <td>bampenporn.son@dome.tu.ac.th</td>\n",
       "      <td>0981768521</td>\n",
       "    </tr>\n",
       "    <tr>\n",
       "      <th>1</th>\n",
       "      <td>2</td>\n",
       "      <td>Eistein</td>\n",
       "      <td>bangkok</td>\n",
       "      <td>10110</td>\n",
       "      <td>eistein@email.com</td>\n",
       "      <td>0999999999</td>\n",
       "    </tr>\n",
       "    <tr>\n",
       "      <th>2</th>\n",
       "      <td>3</td>\n",
       "      <td>David</td>\n",
       "      <td>chon buri</td>\n",
       "      <td>20000</td>\n",
       "      <td>david@gmail.com</td>\n",
       "      <td>0888888888</td>\n",
       "    </tr>\n",
       "  </tbody>\n",
       "</table>\n",
       "</div>"
      ],
      "text/plain": [
       "   id        name      address postcode                         email  \\\n",
       "0   1  Bampenporn  pathumthani    12120  bampenporn.son@dome.tu.ac.th   \n",
       "1   2     Eistein      bangkok    10110             eistein@email.com   \n",
       "2   3       David    chon buri    20000               david@gmail.com   \n",
       "\n",
       "        phone  \n",
       "0  0981768521  \n",
       "1  0999999999  \n",
       "2  0888888888  "
      ]
     },
     "execution_count": 5,
     "metadata": {},
     "output_type": "execute_result"
    }
   ],
   "source": [
    "pd.DataFrame(list(Client.objects.all().values()))"
   ]
  },
  {
   "cell_type": "code",
   "execution_count": 6,
   "id": "bf9d1e82",
   "metadata": {},
   "outputs": [
    {
     "data": {
      "text/html": [
       "<div>\n",
       "<style scoped>\n",
       "    .dataframe tbody tr th:only-of-type {\n",
       "        vertical-align: middle;\n",
       "    }\n",
       "\n",
       "    .dataframe tbody tr th {\n",
       "        vertical-align: top;\n",
       "    }\n",
       "\n",
       "    .dataframe thead th {\n",
       "        text-align: right;\n",
       "    }\n",
       "</style>\n",
       "<table border=\"1\" class=\"dataframe\">\n",
       "  <thead>\n",
       "    <tr style=\"text-align: right;\">\n",
       "      <th></th>\n",
       "      <th>id</th>\n",
       "      <th>car_id</th>\n",
       "      <th>client_id</th>\n",
       "      <th>rent_date</th>\n",
       "      <th>return_date</th>\n",
       "      <th>cost</th>\n",
       "    </tr>\n",
       "  </thead>\n",
       "  <tbody>\n",
       "    <tr>\n",
       "      <th>0</th>\n",
       "      <td>1</td>\n",
       "      <td>4</td>\n",
       "      <td>1</td>\n",
       "      <td>2022-01-21</td>\n",
       "      <td>2022-01-31</td>\n",
       "      <td>189.00</td>\n",
       "    </tr>\n",
       "    <tr>\n",
       "      <th>1</th>\n",
       "      <td>2</td>\n",
       "      <td>2</td>\n",
       "      <td>2</td>\n",
       "      <td>2022-01-21</td>\n",
       "      <td>2022-01-26</td>\n",
       "      <td>1050.00</td>\n",
       "    </tr>\n",
       "    <tr>\n",
       "      <th>2</th>\n",
       "      <td>3</td>\n",
       "      <td>3</td>\n",
       "      <td>3</td>\n",
       "      <td>2022-01-21</td>\n",
       "      <td>2022-02-02</td>\n",
       "      <td>1310.00</td>\n",
       "    </tr>\n",
       "  </tbody>\n",
       "</table>\n",
       "</div>"
      ],
      "text/plain": [
       "   id  car_id  client_id   rent_date return_date     cost\n",
       "0   1       4          1  2022-01-21  2022-01-31   189.00\n",
       "1   2       2          2  2022-01-21  2022-01-26  1050.00\n",
       "2   3       3          3  2022-01-21  2022-02-02  1310.00"
      ]
     },
     "execution_count": 6,
     "metadata": {},
     "output_type": "execute_result"
    }
   ],
   "source": [
    "pd.DataFrame(list(Rent.objects.all().values()))"
   ]
  },
  {
   "cell_type": "code",
   "execution_count": 37,
   "id": "40778099",
   "metadata": {},
   "outputs": [
    {
     "data": {
      "text/html": [
       "<div>\n",
       "<style scoped>\n",
       "    .dataframe tbody tr th:only-of-type {\n",
       "        vertical-align: middle;\n",
       "    }\n",
       "\n",
       "    .dataframe tbody tr th {\n",
       "        vertical-align: top;\n",
       "    }\n",
       "\n",
       "    .dataframe thead th {\n",
       "        text-align: right;\n",
       "    }\n",
       "</style>\n",
       "<table border=\"1\" class=\"dataframe\">\n",
       "  <thead>\n",
       "    <tr style=\"text-align: right;\">\n",
       "      <th></th>\n",
       "      <th>id</th>\n",
       "      <th>car_id</th>\n",
       "      <th>client_id</th>\n",
       "      <th>rent_date</th>\n",
       "      <th>return_date</th>\n",
       "      <th>cost</th>\n",
       "    </tr>\n",
       "  </thead>\n",
       "  <tbody>\n",
       "    <tr>\n",
       "      <th>0</th>\n",
       "      <td>1</td>\n",
       "      <td>4</td>\n",
       "      <td>1</td>\n",
       "      <td>2022-01-21</td>\n",
       "      <td>2022-01-31</td>\n",
       "      <td>189.00</td>\n",
       "    </tr>\n",
       "    <tr>\n",
       "      <th>1</th>\n",
       "      <td>2</td>\n",
       "      <td>2</td>\n",
       "      <td>2</td>\n",
       "      <td>2022-01-21</td>\n",
       "      <td>2022-01-26</td>\n",
       "      <td>1050.00</td>\n",
       "    </tr>\n",
       "    <tr>\n",
       "      <th>2</th>\n",
       "      <td>3</td>\n",
       "      <td>3</td>\n",
       "      <td>3</td>\n",
       "      <td>2022-01-21</td>\n",
       "      <td>2022-02-02</td>\n",
       "      <td>1310.00</td>\n",
       "    </tr>\n",
       "  </tbody>\n",
       "</table>\n",
       "</div>"
      ],
      "text/plain": [
       "   id  car_id  client_id   rent_date return_date     cost\n",
       "0   1       4          1  2022-01-21  2022-01-31   189.00\n",
       "1   2       2          2  2022-01-21  2022-01-26  1050.00\n",
       "2   3       3          3  2022-01-21  2022-02-02  1310.00"
      ]
     },
     "execution_count": 37,
     "metadata": {},
     "output_type": "execute_result"
    }
   ],
   "source": [
    "#q1 มีการเช่าครั้งไหนบ้างที่ราคารถมากกว่าหรือเท่ากับ 15000\n",
    "pd.DataFrame(list( Rent.objects.filter(car__price__gt=10000).values() ))"
   ]
  },
  {
   "cell_type": "code",
   "execution_count": 34,
   "id": "6817c02d",
   "metadata": {},
   "outputs": [
    {
     "data": {
      "text/html": [
       "<div>\n",
       "<style scoped>\n",
       "    .dataframe tbody tr th:only-of-type {\n",
       "        vertical-align: middle;\n",
       "    }\n",
       "\n",
       "    .dataframe tbody tr th {\n",
       "        vertical-align: top;\n",
       "    }\n",
       "\n",
       "    .dataframe thead th {\n",
       "        text-align: right;\n",
       "    }\n",
       "</style>\n",
       "<table border=\"1\" class=\"dataframe\">\n",
       "  <thead>\n",
       "    <tr style=\"text-align: right;\">\n",
       "      <th></th>\n",
       "      <th>id</th>\n",
       "      <th>name</th>\n",
       "      <th>address</th>\n",
       "      <th>postcode</th>\n",
       "      <th>email</th>\n",
       "      <th>phone</th>\n",
       "    </tr>\n",
       "  </thead>\n",
       "  <tbody>\n",
       "    <tr>\n",
       "      <th>0</th>\n",
       "      <td>1</td>\n",
       "      <td>Bampenporn</td>\n",
       "      <td>pathumthani</td>\n",
       "      <td>12120</td>\n",
       "      <td>bampenporn.son@dome.tu.ac.th</td>\n",
       "      <td>0981768521</td>\n",
       "    </tr>\n",
       "    <tr>\n",
       "      <th>1</th>\n",
       "      <td>2</td>\n",
       "      <td>Eistein</td>\n",
       "      <td>bangkok</td>\n",
       "      <td>10110</td>\n",
       "      <td>eistein@email.com</td>\n",
       "      <td>0999999999</td>\n",
       "    </tr>\n",
       "    <tr>\n",
       "      <th>2</th>\n",
       "      <td>3</td>\n",
       "      <td>David</td>\n",
       "      <td>chon buri</td>\n",
       "      <td>20000</td>\n",
       "      <td>david@gmail.com</td>\n",
       "      <td>0888888888</td>\n",
       "    </tr>\n",
       "  </tbody>\n",
       "</table>\n",
       "</div>"
      ],
      "text/plain": [
       "   id        name      address postcode                         email  \\\n",
       "0   1  Bampenporn  pathumthani    12120  bampenporn.son@dome.tu.ac.th   \n",
       "1   2     Eistein      bangkok    10110             eistein@email.com   \n",
       "2   3       David    chon buri    20000               david@gmail.com   \n",
       "\n",
       "        phone  \n",
       "0  0981768521  \n",
       "1  0999999999  \n",
       "2  0888888888  "
      ]
     },
     "execution_count": 34,
     "metadata": {},
     "output_type": "execute_result"
    }
   ],
   "source": [
    "#q2 มีลูกค้าคนไหนบ้างที่เช่ารถ โดยรถนั้นราคามากกว่าหรือเท่ากับ 10000\n",
    "query_set=Client.objects.filter(rent__car__price__gt=10000).values()\n",
    "pd.DataFrame(list(query_set))"
   ]
  },
  {
   "cell_type": "code",
   "execution_count": 36,
   "id": "fd00ddba",
   "metadata": {},
   "outputs": [
    {
     "name": "stdout",
     "output_type": "stream",
     "text": [
      "SELECT \"myapp_client\".\"id\", \"myapp_client\".\"name\", \"myapp_client\".\"address\", \"myapp_client\".\"postcode\", \"myapp_client\".\"email\", \"myapp_client\".\"phone\" FROM \"myapp_client\" INNER JOIN \"myapp_rent\" ON (\"myapp_client\".\"id\" = \"myapp_rent\".\"client_id\") INNER JOIN \"myapp_car\" ON (\"myapp_rent\".\"car_id\" = \"myapp_car\".\"id\") WHERE \"myapp_car\".\"price\" > 10000\n"
     ]
    }
   ],
   "source": [
    "print(Client.objects.filter(rent__car__price__gt=10000).values().query)"
   ]
  },
  {
   "cell_type": "code",
   "execution_count": 35,
   "id": "2f401431",
   "metadata": {},
   "outputs": [
    {
     "data": {
      "text/html": [
       "<div>\n",
       "<style scoped>\n",
       "    .dataframe tbody tr th:only-of-type {\n",
       "        vertical-align: middle;\n",
       "    }\n",
       "\n",
       "    .dataframe tbody tr th {\n",
       "        vertical-align: top;\n",
       "    }\n",
       "\n",
       "    .dataframe thead th {\n",
       "        text-align: right;\n",
       "    }\n",
       "</style>\n",
       "<table border=\"1\" class=\"dataframe\">\n",
       "  <thead>\n",
       "    <tr style=\"text-align: right;\">\n",
       "      <th></th>\n",
       "      <th>id</th>\n",
       "      <th>maker</th>\n",
       "      <th>model</th>\n",
       "      <th>price</th>\n",
       "      <th>color</th>\n",
       "      <th>date</th>\n",
       "    </tr>\n",
       "  </thead>\n",
       "  <tbody>\n",
       "    <tr>\n",
       "      <th>0</th>\n",
       "      <td>4</td>\n",
       "      <td>BMW</td>\n",
       "      <td>Z3</td>\n",
       "      <td>13995.00</td>\n",
       "      <td>silver</td>\n",
       "      <td>2022-01-21</td>\n",
       "    </tr>\n",
       "  </tbody>\n",
       "</table>\n",
       "</div>"
      ],
      "text/plain": [
       "   id maker model     price   color        date\n",
       "0   4   BMW    Z3  13995.00  silver  2022-01-21"
      ]
     },
     "execution_count": 35,
     "metadata": {},
     "output_type": "execute_result"
    }
   ],
   "source": [
    "#q3 มีรถคันไหนบ้างที่ยืมโดย bampenporn และรถราคาน้อยกว่า 10000\n",
    "pd.DataFrame(list(Car.objects.filter(rent__car__price__gt=10000,rent__client__name='Bampenporn').values()))"
   ]
  },
  {
   "cell_type": "code",
   "execution_count": null,
   "id": "f5104cbd",
   "metadata": {},
   "outputs": [],
   "source": []
  }
 ],
 "metadata": {
  "kernelspec": {
   "display_name": "Django Shell-Plus",
   "language": "python",
   "name": "django_extensions"
  },
  "language_info": {
   "codemirror_mode": {
    "name": "ipython",
    "version": 3
   },
   "file_extension": ".py",
   "mimetype": "text/x-python",
   "name": "python",
   "nbconvert_exporter": "python",
   "pygments_lexer": "ipython3",
   "version": "3.8.8"
  }
 },
 "nbformat": 4,
 "nbformat_minor": 5
}
